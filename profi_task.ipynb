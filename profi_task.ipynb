{
 "cells": [
  {
   "cell_type": "markdown",
   "metadata": {},
   "source": [
    "### Подкинули монету N раз. Кол-во случаев, когда выпал орёл, на 10% больше, чем кол-во случаев, когда выпала решка. При каком N мы можем сказать, что монета «нечестная» (орёл и решка выпадают с разной вероятностью)?"
   ]
  },
  {
   "cell_type": "markdown",
   "metadata": {},
   "source": [
    "#### В таком случае наблюдаемая вероятность выпадения орла составляет 0.5238 (например, число выпавших орлов = 11, а решек = 10)\n",
    "\n",
    "$p = \\frac{11}{21} \\approx 0.5238$"
   ]
  },
  {
   "cell_type": "code",
   "execution_count": 1,
   "metadata": {},
   "outputs": [
    {
     "data": {
      "text/plain": [
       "0.5238095238095238"
      ]
     },
     "execution_count": 1,
     "metadata": {},
     "output_type": "execute_result"
    }
   ],
   "source": [
    "11/21"
   ]
  },
  {
   "cell_type": "markdown",
   "metadata": {},
   "source": [
    "#### Я хочу определить, что монета является нечестной с вероятностью 95% (a = 0.05), тогда z-value = 1.96"
   ]
  },
  {
   "cell_type": "markdown",
   "metadata": {},
   "source": [
    "#### Стандартная ошибка будет равна:\n",
    "$s = \\sqrt{\\frac{p(1-p)}{n}} = \\sqrt{\\frac{0.5238*0.4762}{n}} = \\sqrt{\\frac{0.25}{n}} = \\frac{1}{2\\sqrt{n}}$"
   ]
  },
  {
   "cell_type": "markdown",
   "metadata": {},
   "source": [
    "#### Максимальная ошибка равна:\n",
    "$E = z*s = \\frac{z}{2\\sqrt{n}}$\n",
    "\n",
    "#### Отсюда число испытаний равно:\n",
    "$n = \\frac{z^2}{4E^2}$\n",
    "#### Я хочу, чтобы моя ошибка была не более 0.01"
   ]
  },
  {
   "cell_type": "markdown",
   "metadata": {},
   "source": [
    "#### Тогда, при E = 0.01 и z = 1.96:\n",
    "$n = \\frac{1.96^2}{4*0.01^2} = 9604$"
   ]
  },
  {
   "cell_type": "code",
   "execution_count": 4,
   "metadata": {},
   "outputs": [
    {
     "data": {
      "text/plain": [
       "9603.999999999998"
      ]
     },
     "execution_count": 4,
     "metadata": {},
     "output_type": "execute_result"
    }
   ],
   "source": [
    "1.96 ** 2 / (4 * 0.01 **2)"
   ]
  }
 ],
 "metadata": {
  "kernelspec": {
   "display_name": "Python 3",
   "language": "python",
   "name": "python3"
  },
  "language_info": {
   "codemirror_mode": {
    "name": "ipython",
    "version": 3
   },
   "file_extension": ".py",
   "mimetype": "text/x-python",
   "name": "python",
   "nbconvert_exporter": "python",
   "pygments_lexer": "ipython3",
   "version": "3.8.5"
  }
 },
 "nbformat": 4,
 "nbformat_minor": 4
}
